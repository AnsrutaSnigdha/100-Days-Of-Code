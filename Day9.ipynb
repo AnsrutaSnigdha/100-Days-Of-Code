{
  "nbformat": 4,
  "nbformat_minor": 0,
  "metadata": {
    "colab": {
      "name": "Day9.ipynb",
      "provenance": [],
      "authorship_tag": "ABX9TyP6Tdu2HNqn97Vx7PZrPBTh"
    },
    "kernelspec": {
      "name": "python3",
      "display_name": "Python 3"
    }
  },
  "cells": [
    {
      "cell_type": "code",
      "metadata": {
        "id": "DcZUxuzMHC_u"
      },
      "source": [
        "with open('AA.txt','r') as file:    \r\n",
        "    for line in file:      \r\n",
        "        for word in line.split():            \r\n",
        "            print(word)"
      ],
      "execution_count": null,
      "outputs": []
    },
    {
      "cell_type": "code",
      "metadata": {
        "id": "_d_LpyHaHEPH"
      },
      "source": [
        "file = open('AA.txt', 'r')  \r\n",
        "while 1: \r\n",
        "    char = file.read(1)           \r\n",
        "    if not char:  \r\n",
        "        break      \r\n",
        "    print(char) \r\n",
        "file.close() "
      ],
      "execution_count": null,
      "outputs": []
    },
    {
      "cell_type": "code",
      "metadata": {
        "id": "8AcRdpSMILou"
      },
      "source": [
        "file = open(\"AA.txt\",\"r\") \r\n",
        "Count= 0 \r\n",
        "x = file.read() \r\n",
        "y = x.split(\"\\n\") \r\n",
        "for i in y: \r\n",
        "    if i: \r\n",
        "        Count += 1\r\n",
        "print(Count)"
      ],
      "execution_count": null,
      "outputs": []
    },
    {
      "cell_type": "code",
      "metadata": {
        "id": "h1dS-C6MJ9C7"
      },
      "source": [
        "file1 = open('AA.txt', \r\n",
        "             'r') \r\n",
        "file2 = open('NTR.txt', \r\n",
        "             'w')  \r\n",
        "for line in file1.readlines(): \r\n",
        "    if not (line.startswith('TextGenerator')): \r\n",
        "        print(line) \r\n",
        "        file2.write(line) \r\n",
        "file2.close() \r\n",
        "file1.close()"
      ],
      "execution_count": null,
      "outputs": []
    },
    {
      "cell_type": "code",
      "metadata": {
        "id": "jpmCcnIsKCUv"
      },
      "source": [
        "firstfile = input(\"Enter the name of first file \") \r\n",
        "secondfile = input(\"Enter the name of second file \") \r\n",
        "f1 = open(firstfile, 'r') \r\n",
        "f2 = open(secondfile, 'r') \r\n",
        "print('content of first file before appending -', f1.read()) \r\n",
        "print('content of second file before appending -', f2.read()) \r\n",
        "f1.close() \r\n",
        "f2.close() \r\n",
        "f1 = open(firstfile, 'a+') \r\n",
        "f2 = open(secondfile, 'r') \r\n",
        "f1.write(f2.read()) \r\n",
        "f1.seek(0) \r\n",
        "f2.seek(0) \r\n",
        "print('content of first file after appending -', f1.read()) \r\n",
        "print('content of second file after appending -', f2.read()) \r\n",
        "f1.close() \r\n",
        "f2.close() "
      ],
      "execution_count": null,
      "outputs": []
    }
  ]
}