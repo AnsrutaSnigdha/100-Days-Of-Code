{
  "nbformat": 4,
  "nbformat_minor": 0,
  "metadata": {
    "colab": {
      "name": "Day5.ipynb",
      "provenance": [],
      "authorship_tag": "ABX9TyMzqU7LoYwBXq8VZG8dW+71"
    },
    "kernelspec": {
      "name": "python3",
      "display_name": "Python 3"
    }
  },
  "cells": [
    {
      "cell_type": "code",
      "metadata": {
        "colab": {
          "base_uri": "https://localhost:8080/"
        },
        "id": "bv1x37svKC7d",
        "outputId": "1706a79b-f7dd-4e16-ef42-507aa765f5f5"
      },
      "source": [
        "x=[1,2,3,4,5]\r\n",
        "size=len(x)\r\n",
        "temp=x[0]\r\n",
        "x[0]=x[size-1]\r\n",
        "x[size-1]=temp\r\n",
        "print(x)"
      ],
      "execution_count": 3,
      "outputs": [
        {
          "output_type": "stream",
          "text": [
            "[5, 2, 3, 4, 1]\n"
          ],
          "name": "stdout"
        }
      ]
    },
    {
      "cell_type": "code",
      "metadata": {
        "colab": {
          "base_uri": "https://localhost:8080/"
        },
        "id": "lpcGV4IVMJ-T",
        "outputId": "9b3c35fc-d3dd-4f16-e344-f20ca2547c7e"
      },
      "source": [
        "x=[1,2,3,4,5]\r\n",
        "y=6\r\n",
        "if y in x:\r\n",
        "  print(\"Exists\")\r\n",
        "else:\r\n",
        "  print(\"Does not exist\")"
      ],
      "execution_count": 10,
      "outputs": [
        {
          "output_type": "stream",
          "text": [
            "Does not exist\n"
          ],
          "name": "stdout"
        }
      ]
    },
    {
      "cell_type": "code",
      "metadata": {
        "colab": {
          "base_uri": "https://localhost:8080/"
        },
        "id": "7czQZtNtNIWK",
        "outputId": "7d25845c-1f1f-4f16-9bc7-9222286821e0"
      },
      "source": [
        "x=[1,2,3,4,5,6,7,8,9]\r\n",
        "x.reverse()\r\n",
        "print(x)"
      ],
      "execution_count": 17,
      "outputs": [
        {
          "output_type": "stream",
          "text": [
            "[9, 8, 7, 6, 5, 4, 3, 2, 1]\n"
          ],
          "name": "stdout"
        }
      ]
    },
    {
      "cell_type": "code",
      "metadata": {
        "colab": {
          "base_uri": "https://localhost:8080/"
        },
        "id": "aYx3cx8pOhF2",
        "outputId": "587fb95e-54fe-46fc-a9f6-dd52e12d7096"
      },
      "source": [
        "x=[1,2,3,4,5,6,7,8,9]\r\n",
        "sum=0\r\n",
        "for i in x:\r\n",
        "  sum=sum+i\r\n",
        "print(sum)"
      ],
      "execution_count": 18,
      "outputs": [
        {
          "output_type": "stream",
          "text": [
            "45\n"
          ],
          "name": "stdout"
        }
      ]
    },
    {
      "cell_type": "code",
      "metadata": {
        "colab": {
          "base_uri": "https://localhost:8080/"
        },
        "id": "eMbUxMZwOtqB",
        "outputId": "5dbf2ce4-1a8d-44df-d6fe-c4b96849b77e"
      },
      "source": [
        "x=[11,2,3,4,5,6,7,8,9]\r\n",
        "x.sort()\r\n",
        "print(x[0])"
      ],
      "execution_count": 23,
      "outputs": [
        {
          "output_type": "stream",
          "text": [
            "2\n"
          ],
          "name": "stdout"
        }
      ]
    }
  ]
}