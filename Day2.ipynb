{
  "nbformat": 4,
  "nbformat_minor": 0,
  "metadata": {
    "colab": {
      "name": "Day2.ipynb",
      "provenance": [],
      "authorship_tag": "ABX9TyMb2RbPPauUvuwsnyBBzlcO"
    },
    "kernelspec": {
      "name": "python3",
      "display_name": "Python 3"
    }
  },
  "cells": [
    {
      "cell_type": "code",
      "metadata": {
        "colab": {
          "base_uri": "https://localhost:8080/"
        },
        "id": "mPMugCaBZUVn",
        "outputId": "bedd10b2-f4df-49dc-c523-ad97b39c1c40"
      },
      "source": [
        "arr = {1, 2, 3,4}\r\n",
        "sum=0\r\n",
        "for i in arr:\r\n",
        "  sum=sum+i\r\n",
        "print(sum)"
      ],
      "execution_count": 5,
      "outputs": [
        {
          "output_type": "stream",
          "text": [
            "10\n"
          ],
          "name": "stdout"
        }
      ]
    },
    {
      "cell_type": "code",
      "metadata": {
        "colab": {
          "base_uri": "https://localhost:8080/"
        },
        "id": "8Dx7TEjpbYPy",
        "outputId": "81c1bb54-b04e-46b3-f817-131bdb980a8f"
      },
      "source": [
        "arr = [10, 20, 4]\r\n",
        "max=arr[0]\r\n",
        "for i in arr:\r\n",
        "  if i in arr:\r\n",
        "    if(i>=max):\r\n",
        "      max=i\r\n",
        "print(max)"
      ],
      "execution_count": 14,
      "outputs": [
        {
          "output_type": "stream",
          "text": [
            "20\n"
          ],
          "name": "stdout"
        }
      ]
    },
    {
      "cell_type": "code",
      "metadata": {
        "colab": {
          "base_uri": "https://localhost:8080/"
        },
        "id": "CRmMGGV-c7lB",
        "outputId": "2d05ac54-d2bb-4773-9151-4c48b74147aa"
      },
      "source": [
        "n=int(input())\r\n",
        "sum=0\r\n",
        "for i in range(1,n+1):\r\n",
        "  sum=sum+pow(i,2)\r\n",
        "print(sum)"
      ],
      "execution_count": 17,
      "outputs": [
        {
          "output_type": "stream",
          "text": [
            "4\n",
            "30\n"
          ],
          "name": "stdout"
        }
      ]
    },
    {
      "cell_type": "code",
      "metadata": {
        "colab": {
          "base_uri": "https://localhost:8080/"
        },
        "id": "xKGsQ-FneIrO",
        "outputId": "90b30dc9-433d-43ab-c2d8-a3b7a6e0c662"
      },
      "source": [
        "n=int(input())\r\n",
        "sum=0\r\n",
        "for i in range(1,n+1):\r\n",
        "  sum=sum+(i*i*i)\r\n",
        "print(sum)"
      ],
      "execution_count": 19,
      "outputs": [
        {
          "output_type": "stream",
          "text": [
            "7\n",
            "784\n"
          ],
          "name": "stdout"
        }
      ]
    },
    {
      "cell_type": "code",
      "metadata": {
        "colab": {
          "base_uri": "https://localhost:8080/"
        },
        "id": "M8EQzEEofAEz",
        "outputId": "569c87f4-d1dc-45ad-f60c-d2ecf046cf27"
      },
      "source": [
        "start=int(input(\"Enter starting number:\"))\r\n",
        "end=int(input(\"Enter ending number:\"))\r\n",
        "for i in range(start,end):\r\n",
        "  if(i>1):\r\n",
        "    for j in range(2,i):\r\n",
        "      if(i%j==0):\r\n",
        "        break\r\n",
        "    else:\r\n",
        "      print(i)"
      ],
      "execution_count": 21,
      "outputs": [
        {
          "output_type": "stream",
          "text": [
            "Enter starting number:1\n",
            "Enter ending number:100\n",
            "2\n",
            "3\n",
            "5\n",
            "7\n",
            "11\n",
            "13\n",
            "17\n",
            "19\n",
            "23\n",
            "29\n",
            "31\n",
            "37\n",
            "41\n",
            "43\n",
            "47\n",
            "53\n",
            "59\n",
            "61\n",
            "67\n",
            "71\n",
            "73\n",
            "79\n",
            "83\n",
            "89\n",
            "97\n"
          ],
          "name": "stdout"
        }
      ]
    }
  ]
}