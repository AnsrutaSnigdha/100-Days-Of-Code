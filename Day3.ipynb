{
  "nbformat": 4,
  "nbformat_minor": 0,
  "metadata": {
    "colab": {
      "name": "Day3.ipynb",
      "provenance": [],
      "collapsed_sections": [],
      "authorship_tag": "ABX9TyM5XllsN+scVQB1L9t23sEs"
    },
    "kernelspec": {
      "name": "python3",
      "display_name": "Python 3"
    }
  },
  "cells": [
    {
      "cell_type": "code",
      "metadata": {
        "colab": {
          "base_uri": "https://localhost:8080/"
        },
        "id": "uiQehr3cd0yC",
        "outputId": "d3ecf3a2-1edc-49b6-8db3-c800d91f6fb5"
      },
      "source": [
        "s=str(input())\r\n",
        "if(s==s[::-1]):\r\n",
        "  print(\"Is palindrome\")\r\n",
        "else:\r\n",
        "  print(\"Not a palindrome\")"
      ],
      "execution_count": null,
      "outputs": [
        {
          "output_type": "stream",
          "text": [
            "malayalam\n",
            "Is palindrome\n"
          ],
          "name": "stdout"
        }
      ]
    },
    {
      "cell_type": "code",
      "metadata": {
        "colab": {
          "base_uri": "https://localhost:8080/"
        },
        "id": "8uFWUPvwf-2w",
        "outputId": "6d333197-f481-4768-afa3-60449265f74c"
      },
      "source": [
        "s1=str(input())\r\n",
        "s2=str(input())\r\n",
        "if(s1 in s2):\r\n",
        "  print(\"yes\")\r\n",
        "else:\r\n",
        "  print(\"no\")"
      ],
      "execution_count": null,
      "outputs": [
        {
          "output_type": "stream",
          "text": [
            "Hello\n",
            "Hello World\n",
            "yes\n"
          ],
          "name": "stdout"
        }
      ]
    },
    {
      "cell_type": "code",
      "metadata": {
        "colab": {
          "base_uri": "https://localhost:8080/"
        },
        "id": "vNoId6O6g-4U",
        "outputId": "e4de9aeb-a1a9-4054-f53b-2120dd0a3e2a"
      },
      "source": [
        "s=str(input())\r\n",
        "s=s.split(' ')\r\n",
        "for i in s:\r\n",
        "  if(len(i)%2==0):\r\n",
        "    print(i)\r\n",
        "  else:\r\n",
        "    continue"
      ],
      "execution_count": null,
      "outputs": [
        {
          "output_type": "stream",
          "text": [
            "This is a python language\n",
            "This\n",
            "is\n",
            "python\n",
            "language\n"
          ],
          "name": "stdout"
        }
      ]
    },
    {
      "cell_type": "code",
      "metadata": {
        "colab": {
          "base_uri": "https://localhost:8080/"
        },
        "id": "pT79c_vUivUa",
        "outputId": "2280b71c-222f-4654-fec5-bf2cad53f58a"
      },
      "source": [
        "s=str(input())\r\n",
        "k=int(input())\r\n",
        "s=s.split(' ')\r\n",
        "for i in s:\r\n",
        "  if(len(i)>k):\r\n",
        "    print(i)\r\n",
        "  else:\r\n",
        "    continue"
      ],
      "execution_count": null,
      "outputs": [
        {
          "output_type": "stream",
          "text": [
            "hello geeks for geeks is computer science portal\n",
            "4\n",
            "hello\n",
            "geeks\n",
            "geeks\n",
            "computer\n",
            "science\n",
            "portal\n"
          ],
          "name": "stdout"
        }
      ]
    },
    {
      "cell_type": "code",
      "metadata": {
        "id": "2mBSRK5glNwV",
        "colab": {
          "base_uri": "https://localhost:8080/"
        },
        "outputId": "4e352d81-a604-4355-d87b-544bcf012135"
      },
      "source": [
        "s=str(input())\r\n",
        "s=s.lower()\r\n",
        "vowels=set(\"aeiou\")\r\n",
        "t=set({})\r\n",
        "for i in s:\r\n",
        "  if i in vowels:\r\n",
        "    t.add(i)\r\n",
        "  else:\r\n",
        "    pass\r\n",
        "if len(t)==len(vowels):\r\n",
        "  print(\"Accepted\")\r\n",
        "else:\r\n",
        "  print(\"Declined\")"
      ],
      "execution_count": 1,
      "outputs": [
        {
          "output_type": "stream",
          "text": [
            "abcdeiou\n",
            "Accepted\n"
          ],
          "name": "stdout"
        }
      ]
    }
  ]
}