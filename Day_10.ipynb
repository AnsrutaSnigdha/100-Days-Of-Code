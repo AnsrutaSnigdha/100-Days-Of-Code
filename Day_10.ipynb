{
  "nbformat": 4,
  "nbformat_minor": 0,
  "metadata": {
    "colab": {
      "name": "Day 10.ipynb",
      "provenance": [],
      "authorship_tag": "ABX9TyP640sIxGDNACv9xld8ROTo"
    },
    "kernelspec": {
      "name": "python3",
      "display_name": "Python 3"
    }
  },
  "cells": [
    {
      "cell_type": "code",
      "metadata": {
        "colab": {
          "base_uri": "https://localhost:8080/"
        },
        "id": "daEuBLTo_0WG",
        "outputId": "cf3e1365-3673-42c5-f8a9-18f32ffbce90"
      },
      "source": [
        "n=int(input())\r\n",
        "x=map(int, input().split())\r\n",
        "b=int(input())\r\n",
        "y=map(int, input().split())\r\n",
        "s1=set(x)\r\n",
        "s2=set(y)\r\n",
        "s3=s1.union(s2)\r\n",
        "print(len(s3))"
      ],
      "execution_count": 2,
      "outputs": [
        {
          "output_type": "stream",
          "text": [
            "5\n",
            "1 2 3 4 5\n",
            "6\n",
            "6 7 8 9 10 11\n",
            "11\n"
          ],
          "name": "stdout"
        }
      ]
    },
    {
      "cell_type": "code",
      "metadata": {
        "colab": {
          "base_uri": "https://localhost:8080/"
        },
        "id": "n83a8s5_BVHF",
        "outputId": "f6acd840-b574-4f2e-9efe-537971f31989"
      },
      "source": [
        "n=int(input())\r\n",
        "x=map(int,input().split())\r\n",
        "b=int(input())\r\n",
        "y=map(int,input().split())\r\n",
        "s1=set(x)\r\n",
        "s2=set(y)\r\n",
        "s3=s1.intersection(s2)\r\n",
        "print(len(s3))"
      ],
      "execution_count": 3,
      "outputs": [
        {
          "output_type": "stream",
          "text": [
            "5\n",
            "1 2 3 4 5\n",
            "6 \n",
            "6 7 8 9 10 11\n",
            "0\n"
          ],
          "name": "stdout"
        }
      ]
    },
    {
      "cell_type": "code",
      "metadata": {
        "colab": {
          "base_uri": "https://localhost:8080/"
        },
        "id": "wBJ_CJj9BhmO",
        "outputId": "93613afe-eabf-41c7-e88d-93e41a701f9d"
      },
      "source": [
        "n=int(input())\r\n",
        "x=map(int,input().split())\r\n",
        "b=int(input())\r\n",
        "y=map(int,input().split())\r\n",
        "s1=set(x)\r\n",
        "s2=set(y)\r\n",
        "s3=s1.difference(s2)\r\n",
        "print(len(s3))"
      ],
      "execution_count": 4,
      "outputs": [
        {
          "output_type": "stream",
          "text": [
            "5\n",
            "1 2 3 4 5\n",
            "5\n",
            "1 3 5 7 9\n",
            "2\n"
          ],
          "name": "stdout"
        }
      ]
    },
    {
      "cell_type": "code",
      "metadata": {
        "colab": {
          "base_uri": "https://localhost:8080/"
        },
        "id": "lEgBiZInBtAK",
        "outputId": "1c92886c-d083-4657-be36-fa58f78825bb"
      },
      "source": [
        "n=int(input())\r\n",
        "x=map(int,input().split())\r\n",
        "b=int(input())\r\n",
        "y=map(int,input().split())\r\n",
        "s1=set(x)\r\n",
        "s2=set(y)\r\n",
        "s3=s1.symmetric_difference(s2)\r\n",
        "print(len(s3))"
      ],
      "execution_count": 6,
      "outputs": [
        {
          "output_type": "stream",
          "text": [
            "5\n",
            "1 2 3 4 5\n",
            "5 \n",
            "1 3 5 7 9\n",
            "4\n"
          ],
          "name": "stdout"
        }
      ]
    },
    {
      "cell_type": "code",
      "metadata": {
        "colab": {
          "base_uri": "https://localhost:8080/"
        },
        "id": "iWoh_Vs0CFGb",
        "outputId": "f63ccf38-e691-4ba4-9a1e-6c95d1942d0f"
      },
      "source": [
        "for i in range(int(input())):\r\n",
        "  x, a, z, b = input(), set(input().split()), input(), set(input().split())\r\n",
        "  print(a.issubset(b))"
      ],
      "execution_count": 8,
      "outputs": [
        {
          "output_type": "stream",
          "text": [
            "2\n",
            "3\n",
            "1 2 3 \n",
            "3\n",
            "1 3 5\n",
            "False\n",
            "1 2 3 4 5\n",
            "1 2 3 4 5 6 7\n",
            "1 2 \n",
            "1\n",
            "False\n"
          ],
          "name": "stdout"
        }
      ]
    }
  ]
}