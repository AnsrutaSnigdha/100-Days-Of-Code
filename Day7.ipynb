{
  "nbformat": 4,
  "nbformat_minor": 0,
  "metadata": {
    "colab": {
      "name": "Day7.ipynb",
      "provenance": [],
      "authorship_tag": "ABX9TyOlJVJxpClol82LHkNbssvV"
    },
    "kernelspec": {
      "name": "python3",
      "display_name": "Python 3"
    }
  },
  "cells": [
    {
      "cell_type": "code",
      "metadata": {
        "colab": {
          "base_uri": "https://localhost:8080/"
        },
        "id": "SzelbVOPi8Ss",
        "outputId": "914779a1-3f9d-4dcf-c4f7-3fd6ca011b12"
      },
      "source": [
        "x={'a': 100, 'b':200, 'c':300}\r\n",
        "sum=0\r\n",
        "for i in x:\r\n",
        "  sum=sum+x[i]\r\n",
        "print(sum)"
      ],
      "execution_count": 1,
      "outputs": [
        {
          "output_type": "stream",
          "text": [
            "600\n"
          ],
          "name": "stdout"
        }
      ]
    },
    {
      "cell_type": "code",
      "metadata": {
        "colab": {
          "base_uri": "https://localhost:8080/"
        },
        "id": "CQ2d2ntAlLYg",
        "outputId": "a1d1233b-7ee2-45ef-cdd1-dd860a19c7cf"
      },
      "source": [
        "x = {'a' : '1000','b' : '2000','c' : '3000'} \r\n",
        "print(x.get('c', 'Not Found')) \r\n",
        "print(x.get('d', 'Not Found'))"
      ],
      "execution_count": 3,
      "outputs": [
        {
          "output_type": "stream",
          "text": [
            "3000\n",
            "Not Found\n"
          ],
          "name": "stdout"
        }
      ]
    },
    {
      "cell_type": "code",
      "metadata": {
        "colab": {
          "base_uri": "https://localhost:8080/"
        },
        "id": "fgOwsLUjmcYq",
        "outputId": "163ea154-9d9f-4d3b-eb9a-939b560ac38a"
      },
      "source": [
        "x = \"Hello World Hello Everyone\"\r\n",
        "y = x.split() \r\n",
        "z = [] \r\n",
        "for i in y:   \r\n",
        "    if (x.count(i)>1 and (i not in z)or x.count(i)==1): \r\n",
        "        z.append(i) \r\n",
        "print(' '.join(z)) "
      ],
      "execution_count": 7,
      "outputs": [
        {
          "output_type": "stream",
          "text": [
            "Hello World Everyone\n"
          ],
          "name": "stdout"
        }
      ]
    },
    {
      "cell_type": "code",
      "metadata": {
        "colab": {
          "base_uri": "https://localhost:8080/"
        },
        "id": "v1RzwHGzoMyN",
        "outputId": "1e7cf840-4677-442c-abdb-7a932286a172"
      },
      "source": [
        "t = [(\"akash\", 10), (\"gaurav\", 12), (\"anand\", 14),  \r\n",
        "     (\"suraj\", 20), (\"akhil\", 25), (\"ashish\", 30)] \r\n",
        "d=dict(t)\r\n",
        "print(d)"
      ],
      "execution_count": 8,
      "outputs": [
        {
          "output_type": "stream",
          "text": [
            "{'akash': 10, 'gaurav': 12, 'anand': 14, 'suraj': 20, 'akhil': 25, 'ashish': 30}\n"
          ],
          "name": "stdout"
        }
      ]
    },
    {
      "cell_type": "code",
      "metadata": {
        "colab": {
          "base_uri": "https://localhost:8080/"
        },
        "id": "RAfh5xG2o5a8",
        "outputId": "aa552f92-44cb-431c-9ef5-55705a1e9806"
      },
      "source": [
        "x=[1, 1, 1, 5, 5, 3, 1, 3, 3, 1 ,4, 4, 4, 2, 2, 2, 2]\r\n",
        "count={}\r\n",
        "for i in x:\r\n",
        "  count[i] = count.get(i, 0) + 1\r\n",
        "print(count)"
      ],
      "execution_count": 9,
      "outputs": [
        {
          "output_type": "stream",
          "text": [
            "{1: 5, 5: 2, 3: 3, 4: 3, 2: 4}\n"
          ],
          "name": "stdout"
        }
      ]
    }
  ]
}