{
  "nbformat": 4,
  "nbformat_minor": 0,
  "metadata": {
    "colab": {
      "name": "Day8.ipynb",
      "provenance": [],
      "authorship_tag": "ABX9TyMGAzdmnHaZyguppMF5hLXK"
    },
    "kernelspec": {
      "name": "python3",
      "display_name": "Python 3"
    }
  },
  "cells": [
    {
      "cell_type": "code",
      "metadata": {
        "colab": {
          "base_uri": "https://localhost:8080/"
        },
        "id": "VPTUzHG_l2LQ",
        "outputId": "5b884efc-789c-484b-fb99-7577cf9406b4"
      },
      "source": [
        "t=[('a', 24), ('b', 10), ('c', 28), ('d', 5), ('e', 20), ('f', 15)] \r\n",
        "l= len(t)  \r\n",
        "for i in range(0, l):          \r\n",
        "  for j in range(0, l-i-1):  \r\n",
        "    if (t[j][1] > t[j + 1][1]):  \r\n",
        "        temp = t[j]  \r\n",
        "        t[j]= t[j + 1]  \r\n",
        "        t[j + 1]= temp  \r\n",
        "print(t)"
      ],
      "execution_count": 3,
      "outputs": [
        {
          "output_type": "stream",
          "text": [
            "[('d', 5), ('b', 10), ('f', 15), ('e', 20), ('a', 24), ('c', 28)]\n"
          ],
          "name": "stdout"
        }
      ]
    },
    {
      "cell_type": "code",
      "metadata": {
        "colab": {
          "base_uri": "https://localhost:8080/"
        },
        "id": "4rFoyHu6oLzd",
        "outputId": "1af8cf6a-cb87-4b2b-a2b2-0c61db369ed6"
      },
      "source": [
        "t=[(1,2),(4,5,6),(3,),(12,30),(4,5),(49,68,100),(55,),(38,62,99)]\r\n",
        "n=2\r\n",
        "x = [i for i in t if len(i)!=n]\r\n",
        "print(str(x))"
      ],
      "execution_count": 8,
      "outputs": [
        {
          "output_type": "stream",
          "text": [
            "[(4, 5, 6), (3,), (49, 68, 100), (55,), (38, 62, 99)]\n"
          ],
          "name": "stdout"
        }
      ]
    },
    {
      "cell_type": "code",
      "metadata": {
        "colab": {
          "base_uri": "https://localhost:8080/"
        },
        "id": "mS2d6B_pqJZn",
        "outputId": "0d2a1e1a-92fa-4751-c5d1-594650ce587f"
      },
      "source": [
        "t=([5, 6], [1, 2, 3, 4], [7])\r\n",
        "x = tuple(sum(t, []))\r\n",
        "print(str(x))"
      ],
      "execution_count": 11,
      "outputs": [
        {
          "output_type": "stream",
          "text": [
            "(5, 6, 1, 2, 3, 4, 7)\n"
          ],
          "name": "stdout"
        }
      ]
    },
    {
      "cell_type": "code",
      "metadata": {
        "colab": {
          "base_uri": "https://localhost:8080/"
        },
        "id": "40UDrj9qrDMW",
        "outputId": "c1543ad9-5818-478a-acf9-33029294db5c"
      },
      "source": [
        "t=((1,2),(4,5,6),(3,),(12,30),(4,5),(49,68,100),(55,),(38,62,99))\r\n",
        "print(str(t.__sizeof__()) +\"bytes\") "
      ],
      "execution_count": 14,
      "outputs": [
        {
          "output_type": "stream",
          "text": [
            "88bytes\n"
          ],
          "name": "stdout"
        }
      ]
    },
    {
      "cell_type": "code",
      "metadata": {
        "colab": {
          "base_uri": "https://localhost:8080/"
        },
        "id": "ahq-rY6ss0Dj",
        "outputId": "c39d01d3-9f41-4616-e76f-dbde7e2578d1"
      },
      "source": [
        "l=[1,2,3,4]\r\n",
        "t=(5,6,7,8)\r\n",
        "l+=t\r\n",
        "print(str(l))"
      ],
      "execution_count": 16,
      "outputs": [
        {
          "output_type": "stream",
          "text": [
            "[1, 2, 3, 4, 5, 6, 7, 8]\n"
          ],
          "name": "stdout"
        }
      ]
    }
  ]
}