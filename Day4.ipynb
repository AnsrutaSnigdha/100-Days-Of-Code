{
  "nbformat": 4,
  "nbformat_minor": 0,
  "metadata": {
    "colab": {
      "name": "Day4.ipynb",
      "provenance": [],
      "authorship_tag": "ABX9TyNfqLjeRHsp2JuWc505zwJZ"
    },
    "kernelspec": {
      "name": "python3",
      "display_name": "Python 3"
    }
  },
  "cells": [
    {
      "cell_type": "code",
      "metadata": {
        "id": "EbC6PabW8yjs",
        "colab": {
          "base_uri": "https://localhost:8080/"
        },
        "outputId": "62a97628-4c45-4b1b-d151-a1e02c1be1fd"
      },
      "source": [
        "x=[[1,2,3],[4,5,6],[7,8,9]]\r\n",
        "y=[[1,3,5],[7,9,11],[13,15,17]]\r\n",
        "t=[[0,0,0],[0,0,0],[0,0,0]]\r\n",
        "for i in range(len(x)):\r\n",
        "  for j in range(len(x[0])):\r\n",
        "    t[i][j]=x[i][j]+y[i][j]\r\n",
        "for a in t:\r\n",
        "  print(a)"
      ],
      "execution_count": 9,
      "outputs": [
        {
          "output_type": "stream",
          "text": [
            "[2, 5, 8]\n",
            "[11, 14, 17]\n",
            "[20, 23, 26]\n"
          ],
          "name": "stdout"
        }
      ]
    },
    {
      "cell_type": "code",
      "metadata": {
        "colab": {
          "base_uri": "https://localhost:8080/"
        },
        "id": "2yLOxQ5JGwV4",
        "outputId": "ddc01f35-80cd-4e29-d145-a2d5699b916d"
      },
      "source": [
        "x=[[1,2,3],[4,5,6],[7,8,9]]\r\n",
        "y=[[1,3,5],[7,9,11],[13,15,17]]\r\n",
        "t=[[0,0,0],[0,0,0],[0,0,0]]\r\n",
        "for i in range(len(x)):\r\n",
        "  for j in range(len(y[0])):\r\n",
        "    for k in range(len(y)):\r\n",
        "      t[i][j]+=x[i][k]*y[k][j]\r\n",
        "for r in t:\r\n",
        "  print(r)"
      ],
      "execution_count": 15,
      "outputs": [
        {
          "output_type": "stream",
          "text": [
            "[54, 66, 78]\n",
            "[117, 147, 177]\n",
            "[180, 228, 276]\n"
          ],
          "name": "stdout"
        }
      ]
    },
    {
      "cell_type": "code",
      "metadata": {
        "colab": {
          "base_uri": "https://localhost:8080/"
        },
        "id": "nF51eoLhJKqY",
        "outputId": "90c5bad8-f5fb-4859-8dce-c4895df9ba71"
      },
      "source": [
        "m = [[1,2],[3,4],[5,6]] \r\n",
        "for row in m : \r\n",
        "    print(row) \r\n",
        "rez = [[m[j][i] for j in range(len(m))] for i in range(len(m[0]))] \r\n",
        "print(\"\\n\") \r\n",
        "for row in rez: \r\n",
        "    print(row) "
      ],
      "execution_count": 22,
      "outputs": [
        {
          "output_type": "stream",
          "text": [
            "[1, 2]\n",
            "[3, 4]\n",
            "[5, 6]\n",
            "\n",
            "\n",
            "[1, 3, 5]\n",
            "[2, 4, 6]\n"
          ],
          "name": "stdout"
        }
      ]
    },
    {
      "cell_type": "code",
      "metadata": {
        "colab": {
          "base_uri": "https://localhost:8080/"
        },
        "id": "WA9hLrUhMJZ4",
        "outputId": "7f98e9c2-fd27-4d60-bf71-763d062ffeac"
      },
      "source": [
        "x = [[1,2,3], [4,5,6], [7, 8,9]]\r\n",
        "n = 2\r\n",
        "y=[z[n]for z in x]\r\n",
        "print(y)"
      ],
      "execution_count": 51,
      "outputs": [
        {
          "output_type": "stream",
          "text": [
            "[3, 6, 9]\n"
          ],
          "name": "stdout"
        }
      ]
    },
    {
      "cell_type": "code",
      "metadata": {
        "colab": {
          "base_uri": "https://localhost:8080/"
        },
        "id": "CXU_qwJ9RCz9",
        "outputId": "9356d551-0f8a-4298-aee7-70f497eef512"
      },
      "source": [
        "N = 4\r\n",
        "x = [list(range(1 + N * i, 1 + N * (i + 1))) \r\n",
        "                            for i in range(N)] \r\n",
        "print(x)"
      ],
      "execution_count": 52,
      "outputs": [
        {
          "output_type": "stream",
          "text": [
            "[[1, 2, 3, 4], [5, 6, 7, 8], [9, 10, 11, 12], [13, 14, 15, 16]]\n"
          ],
          "name": "stdout"
        }
      ]
    }
  ]
}