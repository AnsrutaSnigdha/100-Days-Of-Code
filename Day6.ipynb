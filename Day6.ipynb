{
  "nbformat": 4,
  "nbformat_minor": 0,
  "metadata": {
    "colab": {
      "name": "Day6.ipynb",
      "provenance": [],
      "authorship_tag": "ABX9TyOMcD4wkjvgluYkdtQUT5h7"
    },
    "kernelspec": {
      "name": "python3",
      "display_name": "Python 3"
    }
  },
  "cells": [
    {
      "cell_type": "code",
      "metadata": {
        "id": "1E4nWzun443_",
        "colab": {
          "base_uri": "https://localhost:8080/"
        },
        "outputId": "45b66e41-3f38-4334-aba2-8dc43380ea05"
      },
      "source": [
        "x=[1,38,93,59,67,40]\r\n",
        "n=93\r\n",
        "if(n in x):\r\n",
        "  x.remove(n)\r\n",
        "else:\r\n",
        "  print(\"Not there\")\r\n",
        "print(x)"
      ],
      "execution_count": null,
      "outputs": [
        {
          "output_type": "stream",
          "text": [
            "[1, 38, 59, 67, 40]\n"
          ],
          "name": "stdout"
        }
      ]
    },
    {
      "cell_type": "code",
      "metadata": {
        "colab": {
          "base_uri": "https://localhost:8080/"
        },
        "id": "Aigcx_Fb8vC0",
        "outputId": "7d7193cb-1038-4688-918f-719ddd021bf6"
      },
      "source": [
        "x=[1,28, 6, 7, 10, 12, 20, 10, 28, 10]\r\n",
        "n=10\r\n",
        "count=0\r\n",
        "for i in x:\r\n",
        "  if(n==i):\r\n",
        "    count=count+1\r\n",
        "print(count)"
      ],
      "execution_count": null,
      "outputs": [
        {
          "output_type": "stream",
          "text": [
            "3\n"
          ],
          "name": "stdout"
        }
      ]
    },
    {
      "cell_type": "code",
      "metadata": {
        "colab": {
          "base_uri": "https://localhost:8080/"
        },
        "id": "F_KrJuqq9a6c",
        "outputId": "6749ad42-6662-46d9-d726-6be0f64a2a9e"
      },
      "source": [
        "x=[1,28, 6, 20,7, 10, 12, 20, 10, 28, 10]\r\n",
        "y=[]\r\n",
        "n=len(x)\r\n",
        "for i in range(n):\r\n",
        "  k=i+1\r\n",
        "  y.append(x[i])\r\n",
        "  for j in range(k,n):\r\n",
        "    if x[i]==x[j] and x[i]  in y:\r\n",
        "      y.remove(x[i])\r\n",
        "print(y)"
      ],
      "execution_count": 4,
      "outputs": [
        {
          "output_type": "stream",
          "text": [
            "[1, 6, 7, 12, 20, 28, 10]\n"
          ],
          "name": "stdout"
        }
      ]
    },
    {
      "cell_type": "code",
      "metadata": {
        "colab": {
          "base_uri": "https://localhost:8080/"
        },
        "id": "tJiEPNs-VAaT",
        "outputId": "78256821-d15d-4af1-b27c-e8c61e92ba74"
      },
      "source": [
        "x=[20,46,34,98,66]\r\n",
        "y=[]\r\n",
        "for i in x:\r\n",
        "  sum=0\r\n",
        "  for j in str(i):\r\n",
        "    sum+=int(j)\r\n",
        "  y.append(sum)\r\n",
        "print(y)"
      ],
      "execution_count": 7,
      "outputs": [
        {
          "output_type": "stream",
          "text": [
            "[2, 10, 7, 17, 12]\n"
          ],
          "name": "stdout"
        }
      ]
    },
    {
      "cell_type": "code",
      "metadata": {
        "colab": {
          "base_uri": "https://localhost:8080/"
        },
        "id": "7FaLt_QcZHDx",
        "outputId": "d0a87543-b6f4-489b-9fcb-b82d9753f62e"
      },
      "source": [
        "l = [1, 2, 3, 4, 5, 6, 7, 8, 9]  \r\n",
        "n = 4 \r\n",
        "x = [l[i:i + n] for i in range(0, len(l), n)]  \r\n",
        "print(x)"
      ],
      "execution_count": 10,
      "outputs": [
        {
          "output_type": "stream",
          "text": [
            "[[1, 2, 3, 4], [5, 6, 7, 8], [9]]\n"
          ],
          "name": "stdout"
        }
      ]
    }
  ]
}