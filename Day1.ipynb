{
  "nbformat": 4,
  "nbformat_minor": 0,
  "metadata": {
    "colab": {
      "name": "Untitled1.ipynb",
      "provenance": [],
      "authorship_tag": "ABX9TyObbmD9o8VEbiRuF+lCYyAt"
    },
    "kernelspec": {
      "name": "python3",
      "display_name": "Python 3"
    }
  },
  "cells": [
    {
      "cell_type": "code",
      "metadata": {
        "colab": {
          "base_uri": "https://localhost:8080/"
        },
        "id": "XSXUm03iordk",
        "outputId": "60492a78-e4d3-41a3-c329-708bb2b1e336"
      },
      "source": [
        "def factorial(n): \r\n",
        "    return 1 if (n==1 or n==0) else n * factorial(n - 1)\r\n",
        "x=int(input())\r\n",
        "print(factorial(x))"
      ],
      "execution_count": null,
      "outputs": [
        {
          "output_type": "stream",
          "text": [
            "5\n",
            "120\n"
          ],
          "name": "stdout"
        }
      ]
    },
    {
      "cell_type": "code",
      "metadata": {
        "colab": {
          "base_uri": "https://localhost:8080/"
        },
        "id": "P2i8g3dJq6Wu",
        "outputId": "e7bc7d83-fca9-46ce-9c27-19addc69f536"
      },
      "source": [
        "P=int(input(\"Enter principle amount\"))\r\n",
        "T=int(input(\"Enter time period\"))\r\n",
        "R=int(input(\"Enter rate\"))\r\n",
        "S=(P*T*R)/100\r\n",
        "print(S)"
      ],
      "execution_count": null,
      "outputs": [
        {
          "output_type": "stream",
          "text": [
            "Enter principle amount10000\n",
            "Enter time period5\n",
            "Enter rate5\n",
            "2500.0\n"
          ],
          "name": "stdout"
        }
      ]
    },
    {
      "cell_type": "code",
      "metadata": {
        "colab": {
          "base_uri": "https://localhost:8080/"
        },
        "id": "cf06-2f1tNWh",
        "outputId": "0b18bf31-5f06-4c45-be08-8ac2f8408ba3"
      },
      "source": [
        "P=int(input(\"Enter principle amount\"))\r\n",
        "T=int(input(\"Enter time period\"))\r\n",
        "R=int(input(\"Enter rate\"))\r\n",
        "A=P*(pow((1+R/100),T))\r\n",
        "CI=A-P\r\n",
        "print(CI)"
      ],
      "execution_count": null,
      "outputs": [
        {
          "output_type": "stream",
          "text": [
            "Enter principle amount1200\n",
            "Enter time period2\n",
            "Enter rate6\n",
            "148.32000000000016\n"
          ],
          "name": "stdout"
        }
      ]
    },
    {
      "cell_type": "code",
      "metadata": {
        "colab": {
          "base_uri": "https://localhost:8080/"
        },
        "id": "73Ln1r7vvh7X",
        "outputId": "90147f8b-6d97-48c9-bbb2-406facf3c166"
      },
      "source": [
        "x=int(input())\r\n",
        "def order(x): \r\n",
        "    n = 0\r\n",
        "    while (x != 0): \r\n",
        "        n = n + 1\r\n",
        "        x = x // 10          \r\n",
        "    return n \r\n",
        "def isArmstrong(x):  \r\n",
        "    n = order(x) \r\n",
        "    temp=x\r\n",
        "    sum1 = 0    \r\n",
        "    while (temp!= 0): \r\n",
        "        r = temp % 10\r\n",
        "        sum1 = sum1 + pow(r, n) \r\n",
        "        temp = temp // 10\r\n",
        "    return(sum1==x)\r\n",
        "print(isArmstrong(x)) \r\n"
      ],
      "execution_count": 6,
      "outputs": [
        {
          "output_type": "stream",
          "text": [
            "153\n",
            "True\n"
          ],
          "name": "stdout"
        }
      ]
    },
    {
      "cell_type": "code",
      "metadata": {
        "colab": {
          "base_uri": "https://localhost:8080/"
        },
        "id": "0OqO9DZNR0cv",
        "outputId": "dcee1681-0a2f-48c5-f68c-b9ac84737108"
      },
      "source": [
        "n=int(input())\r\n",
        "def fibonacci(n):\r\n",
        "  if(n==1):\r\n",
        "    return 0\r\n",
        "  elif(n==2):\r\n",
        "    return 1\r\n",
        "  else:\r\n",
        "    return (fibonacci(n-1)+fibonacci(n-2))\r\n",
        "fibonacci(n)"
      ],
      "execution_count": 25,
      "outputs": [
        {
          "output_type": "stream",
          "text": [
            "1\n"
          ],
          "name": "stdout"
        },
        {
          "output_type": "execute_result",
          "data": {
            "text/plain": [
              "0"
            ]
          },
          "metadata": {
            "tags": []
          },
          "execution_count": 25
        }
      ]
    }
  ]
}